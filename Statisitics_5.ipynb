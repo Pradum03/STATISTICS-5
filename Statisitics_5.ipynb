{
 "cells": [
  {
   "cell_type": "markdown",
   "id": "0329ff40-ba7a-4fa6-a9d6-bc62c88a4c5d",
   "metadata": {},
   "source": [
    "ASSIGNMENT: STATIISTICS-5"
   ]
  },
  {
   "cell_type": "markdown",
   "id": "c2325c27-05c5-40e9-b9f0-14c867f41afd",
   "metadata": {},
   "source": [
    "1.  What is Estimation Statistics? Explain point estimate and interval estimate."
   ]
  },
  {
   "cell_type": "markdown",
   "id": "6d89bb0b-8815-444a-aae5-1b123cedb4e5",
   "metadata": {},
   "source": [
    "Estimation statistics is a branch of statistics that involves using sample data to estimate or make inferences about the population parameters. Estimation involves calculating an estimate, which is a value or range of values that represents an approximation of an unknown parameter.\n",
    "\n",
    "There are two main types of estimates: point estimates and interval estimates.\n",
    "\n",
    "A point estimate is a single value that is calculated from the sample data and is used to estimate the population parameter. For example, the sample mean is often used as a point estimate for the population mean, while the sample proportion is used as a point estimate for the population proportion.\n",
    "\n",
    "An interval estimate, on the other hand, is a range of values that is calculated from the sample data and is used to estimate the population parameter. The most common type of interval estimate is a confidence interval, which is a range of values that is likely to contain the population parameter with a certain level of confidence. For example, a 95% confidence interval for the population mean would be a range of values that is expected to contain the true population mean 95% of the time.\n",
    "\n",
    "Interval estimates are generally considered to be more informative than point estimates because they provide a range of plausible values for the population parameter rather than just a single value. However, interval estimates are typically more complex to calculate and interpret than point estimates."
   ]
  },
  {
   "cell_type": "markdown",
   "id": "8d26b972-44cd-4100-8b89-4cd5228786e8",
   "metadata": {},
   "source": [
    "2.  Write a Python function to estimate the population mean using a sample mean and standard \n",
    "deviation"
   ]
  },
  {
   "cell_type": "code",
   "execution_count": 6,
   "id": "a1969087-e659-4726-88cd-9d9375d5c844",
   "metadata": {},
   "outputs": [],
   "source": [
    "def population_mean(sample_mean, sample_std, sample_size):\n",
    "    \"\"\"Estimates the population mean given a sample mean, sample standard deviation, and sample size.\"\"\"\n",
    "    import math\n",
    "    t_value = 1.96 # for a 95% confidence interval and a large sample size\n",
    "    margin_error = t_value * (sample_std / math.sqrt(sample_size))  \n",
    "    lower_bound = sample_mean - margin_error\n",
    "    upper_bound = sample_mean + margin_error\n",
    "    return lower_bound, upper_bound\n"
   ]
  },
  {
   "cell_type": "code",
   "execution_count": 7,
   "id": "3c331d62-d485-4164-b282-af2497824971",
   "metadata": {},
   "outputs": [
    {
     "name": "stdout",
     "output_type": "stream",
     "text": [
      "The population mean is estimated to be between 10.11 and 10.89.\n"
     ]
    }
   ],
   "source": [
    "sample_mean = 10.5\n",
    "sample_std = 2.0\n",
    "sample_size = 100\n",
    "\n",
    "lower_bound, upper_bound = population_mean(sample_mean, sample_std, sample_size)\n",
    "\n",
    "print(f\"The population mean is estimated to be between {lower_bound:.2f} and {upper_bound:.2f}.\")\n"
   ]
  },
  {
   "cell_type": "markdown",
   "id": "e39f5084-d818-405b-8f61-5f2a2a28ebc0",
   "metadata": {},
   "source": [
    "3.  What is Hypothesis testing? Why is it used? State the importance of Hypothesis testing."
   ]
  },
  {
   "cell_type": "markdown",
   "id": "161178ad-a016-4e96-a1e4-9960c088a7b3",
   "metadata": {},
   "source": [
    "Hypothesis testing is a statistical method used to evaluate whether a certain hypothesis about a population or a process is likely to be true or not. The basic idea behind hypothesis testing is to gather data and use it to determine whether a hypothesis can be rejected or not based on the evidence.\n",
    "\n",
    "Hypothesis testing is used to make decisions in a variety of fields, including science, engineering, medicine, business, and more. It helps researchers and decision-makers to determine whether a particular hypothesis or assumption is valid or not. Hypothesis testing is particularly useful in cases where there is limited information about the population or process being studied, and where the stakes of making incorrect decisions are high.\n",
    "\n",
    "The importance of hypothesis testing lies in its ability to provide a rigorous and objective framework for making decisions based on empirical evidence. By using statistical methods to evaluate hypotheses, we can make more informed decisions and reduce the risk of making costly mistakes. Hypothesis testing also helps to ensure that research findings are reliable and replicable, which is crucial for building a robust body of scientific knowledge.\n",
    "\n",
    "In summary, hypothesis testing is a powerful tool for making decisions based on empirical evidence, and its importance lies in its ability to provide a rigorous and objective framework for evaluating hypotheses and making informed decisions."
   ]
  },
  {
   "cell_type": "markdown",
   "id": "7c321747-c7f5-423a-95f4-7850f8129467",
   "metadata": {},
   "source": [
    "4.  Create a hypothesis that states whether the average weight of male college students is greater than \n",
    "the average weight of female college students"
   ]
  },
  {
   "cell_type": "markdown",
   "id": "5c071f58-b3b8-4b10-aebe-45fce4b4191b",
   "metadata": {},
   "source": [
    "Hypothesis: The average weight of male college students is greater than the average weight of female college students.\n",
    "\n",
    "This is an example of a directional hypothesis, as it predicts the direction of the difference between the two groups (i.e., male students are heavier than female students). The hypothesis can be tested using statistical methods, such as a two-sample t-test, to determine whether the difference in means between the two groups is statistically significant. The null hypothesis, in this case, would be that there is no difference between the average weight of male and female college students."
   ]
  },
  {
   "cell_type": "markdown",
   "id": "23456f1c-b825-44e0-884a-6cd8dd65941e",
   "metadata": {},
   "source": [
    "5.  Write a Python script to conduct a hypothesis test on the difference between two population means, \n",
    "given a sample from each population."
   ]
  },
  {
   "cell_type": "code",
   "execution_count": 9,
   "id": "b81528cf-e5a3-4cac-9fe0-ed2c96090de6",
   "metadata": {},
   "outputs": [
    {
     "name": "stdout",
     "output_type": "stream",
     "text": [
      "Sample 1 mean: 49.93\n",
      "Sample 2 mean: 51.41\n",
      "Sample 1 standard deviation: 9.51\n",
      "Sample 2 standard deviation: 9.80\n",
      "T-statistic: -1.08\n",
      "P-value: 0.28\n"
     ]
    }
   ],
   "source": [
    "import numpy as np\n",
    "from scipy.stats import ttest_ind\n",
    "\n",
    "# generate random samples from two populations\n",
    "pop1 = np.random.normal(loc=50, scale=10, size=100)\n",
    "pop2 = np.random.normal(loc=52, scale=10, size=100)\n",
    "\n",
    "# calculate sample means and standard deviations\n",
    "sample1_mean = np.mean(pop1)\n",
    "sample2_mean = np.mean(pop2)\n",
    "sample1_std = np.std(pop1, ddof=1)\n",
    "sample2_std = np.std(pop2, ddof=1)\n",
    "\n",
    "# conduct two-sample t-test assuming unequal variances\n",
    "t_stat, p_val = ttest_ind(pop1, pop2, equal_var=False)\n",
    "\n",
    "# print results\n",
    "print(f\"Sample 1 mean: {sample1_mean:.2f}\")\n",
    "print(f\"Sample 2 mean: {sample2_mean:.2f}\")\n",
    "print(f\"Sample 1 standard deviation: {sample1_std:.2f}\")\n",
    "print(f\"Sample 2 standard deviation: {sample2_std:.2f}\")\n",
    "print(f\"T-statistic: {t_stat:.2f}\")\n",
    "print(f\"P-value: {p_val:.2f}\")\n"
   ]
  },
  {
   "cell_type": "markdown",
   "id": "24b8e404-2e92-4424-8084-f4ae295b6337",
   "metadata": {},
   "source": [
    "In this example, the null hypothesis is that there is no difference between the population means (i.e., the difference is zero), and the alternative hypothesis is that there is a difference between the means. The p-value indicates the probability of observing a t-statistic as extreme or more extreme than the one observed, assuming the null hypothesis is true. If the p-value is less than a chosen significance level (e.g., 0.05), then we reject the null hypothesis and conclude that there is evidence for a difference between the means."
   ]
  },
  {
   "cell_type": "markdown",
   "id": "47f73795-75f2-4527-beca-53b4add09d53",
   "metadata": {},
   "source": [
    "6. What is a null and alternative hypothesis? Give some examples."
   ]
  },
  {
   "cell_type": "markdown",
   "id": "f63f140e-f70c-446e-b056-7f835079a370",
   "metadata": {},
   "source": [
    "In statistical hypothesis testing, a null hypothesis (H0) is a statement that represents the default or conventional position, which is typically that there is no difference or no effect. An alternative hypothesis (Ha) is a statement that represents the opposite or alternative position, which is typically that there is some difference or some effect.\n",
    "\n",
    "Some examples of null and alternative hypotheses are:\n",
    "\n",
    "Null hypothesis: The mean weight of apples produced by two different farms is equal. Alternative hypothesis: The mean weight of apples produced by two different farms is not equal.\n",
    "\n",
    "Null hypothesis: There is no significant difference in the average height of men and women in a population. Alternative hypothesis: There is a significant difference in the average height of men and women in a population.\n",
    "\n",
    "Null hypothesis: A new medication has no effect on reducing symptoms of depression. Alternative hypothesis: A new medication has a significant effect on reducing symptoms of depression.\n",
    "\n",
    "Null hypothesis: The proportion of people who prefer coffee over tea is the same in two different regions. Alternative hypothesis: The proportion of people who prefer coffee over tea is different in two different regions.\n",
    "\n",
    "In each of these examples, the null hypothesis represents the absence of a difference or effect, while the alternative hypothesis represents the presence of a difference or effect. The goal of hypothesis testing is to gather evidence from data to decide whether to reject or fail to reject the null hypothesis in favor of the alternative hypothesis."
   ]
  },
  {
   "cell_type": "markdown",
   "id": "af421a4d-ac67-49d8-b4da-c09fb7dca7db",
   "metadata": {},
   "source": [
    "7. Write down the steps involved in hypothesis testing."
   ]
  },
  {
   "cell_type": "markdown",
   "id": "3dc8c306-1219-4870-846a-5b07dff5c723",
   "metadata": {},
   "source": [
    "Formulate the null and alternative hypotheses: Clearly state the null hypothesis (H0) and alternative hypothesis (Ha) based on the research question.\n",
    "\n",
    "Determine the level of significance (alpha): Choose a level of significance (alpha) that defines the probability threshold for rejecting the null hypothesis.\n",
    "\n",
    "Select an appropriate test statistic: Choose an appropriate test statistic that will help determine whether the null hypothesis can be rejected.\n",
    "\n",
    "Collect and analyze data: Collect relevant data and analyze it using the chosen test statistic to determine the test statistic value.\n",
    "\n",
    "Calculate the p-value: Calculate the probability value (p-value) associated with the test statistic value.\n",
    "\n",
    "Compare the p-value with the level of significance: Compare the p-value with the level of significance (alpha) to decide whether to reject or fail to reject the null hypothesis.\n",
    "\n",
    "Draw conclusions: If the p-value is less than or equal to the level of significance, reject the null hypothesis in favor of the alternative hypothesis. Otherwise, fail to reject the null hypothesis.\n",
    "\n",
    "Interpret the results: Interpret the results of the hypothesis test in the context of the research question and draw appropriate conclusions."
   ]
  },
  {
   "cell_type": "markdown",
   "id": "1e957457-49b1-4ab8-8600-e3e37829e67f",
   "metadata": {},
   "source": [
    "8.  Define p-value and explain its significance in hypothesis testing."
   ]
  },
  {
   "cell_type": "markdown",
   "id": "1e2ea8a3-1675-44bd-a284-caec238846d6",
   "metadata": {},
   "source": [
    "In hypothesis testing, the p-value is the probability of observing a test statistic value as extreme or more extreme than the one observed, assuming that the null hypothesis is true.\n",
    "\n",
    "The significance of the p-value is that it provides a measure of the strength of evidence against the null hypothesis. If the p-value is very small (e.g., less than the level of significance chosen for the test), it suggests that the observed data is unlikely to have occurred by chance if the null hypothesis were true. This provides evidence in favor of the alternative hypothesis and suggests that the null hypothesis should be rejected.\n",
    "\n",
    "On the other hand, if the p-value is large (e.g., greater than the level of significance chosen for the test), it suggests that the observed data is reasonably likely to have occurred by chance if the null hypothesis were true. This provides weaker evidence against the null hypothesis and suggests that it should not be rejected.\n",
    "\n",
    "It's important to note that the p-value should not be interpreted as the probability that the null hypothesis is true or false, or as the probability of making a correct decision in hypothesis testing. Rather, it is a measure of the strength of evidence against the null hypothesis and should be considered along with other factors, such as the study design, sample size, and potential sources of bias or confounding, when making decisions about hypothesis testing"
   ]
  },
  {
   "cell_type": "markdown",
   "id": "d7c2c02d-b90a-4f3a-999d-88898b9ce906",
   "metadata": {},
   "source": [
    "9. Generate a Student's t-distribution plot using Python's matplotlib library, with the degrees of freedom \n",
    "parameter set to 10."
   ]
  },
  {
   "cell_type": "code",
   "execution_count": 10,
   "id": "252fb49e-6077-4483-9e46-92172b1d52af",
   "metadata": {},
   "outputs": [
    {
     "data": {
      "image/png": "[encoded data removed]",
      "text/plain": [
       "<Figure size 640x480 with 1 Axes>"
      ]
     },
     "metadata": {},
     "output_type": "display_data"
    }
   ],
   "source": [
    "import numpy as np\n",
    "import matplotlib.pyplot as plt\n",
    "\n",
    "# Set the degrees of freedom\n",
    "df = 10\n",
    "\n",
    "# Generate the x-axis values\n",
    "x = np.linspace(-4, 4, 1000)\n",
    "\n",
    "# Calculate the y-axis values\n",
    "y = (1 / np.sqrt(df * np.pi)) * ((1 + ((x**2) / df))**((-df-1)/2))\n",
    "\n",
    "# Plot the distribution\n",
    "plt.plot(x, y)\n",
    "plt.title(\"Student's t-Distribution (df=10)\")\n",
    "plt.xlabel(\"x\")\n",
    "plt.ylabel(\"Probability Density\")\n",
    "plt.show()\n"
   ]
  },
  {
   "cell_type": "markdown",
   "id": "244c4de6-f513-4f18-8380-c88f9a4d315f",
   "metadata": {},
   "source": [
    "10.  Write a Python program to calculate the two-sample t-test for independent samples, given two \n",
    "random samples of equal size and a null hypothesis that the population means are equal."
   ]
  },
  {
   "cell_type": "code",
   "execution_count": 11,
   "id": "e5aaafee-ae0e-41b1-af7b-76352043bf1c",
   "metadata": {},
   "outputs": [
    {
     "name": "stdout",
     "output_type": "stream",
     "text": [
      "Null Hypothesis:  The population means are equal.\n",
      "Sample 1 Mean:  50.456938841023\n",
      "Sample 2 Mean:  55.61007928996603\n",
      "t-statistic:  -3.9726247452043397\n",
      "p-value:  9.949360027033771e-05\n",
      "Conclusion: Reject the null hypothesis.\n"
     ]
    }
   ],
   "source": [
    "import numpy as np\n",
    "from scipy import stats\n",
    "\n",
    "# Generate two random samples of equal size\n",
    "sample1 = np.random.normal(loc=50, scale=10, size=100)\n",
    "sample2 = np.random.normal(loc=55, scale=10, size=100)\n",
    "\n",
    "# Set the null hypothesis that the population means are equal\n",
    "null_hypothesis = \"The population means are equal.\"\n",
    "\n",
    "# Calculate the t-statistic and p-value for the two-sample t-test\n",
    "t_statistic, p_value = stats.ttest_ind(sample1, sample2)\n",
    "\n",
    "# Set the significance level alpha\n",
    "alpha = 0.05\n",
    "\n",
    "# Print the results of the hypothesis test\n",
    "print(\"Null Hypothesis: \", null_hypothesis)\n",
    "print(\"Sample 1 Mean: \", np.mean(sample1))\n",
    "print(\"Sample 2 Mean: \", np.mean(sample2))\n",
    "print(\"t-statistic: \", t_statistic)\n",
    "print(\"p-value: \", p_value)\n",
    "if p_value < alpha:\n",
    "    print(\"Conclusion: Reject the null hypothesis.\")\n",
    "else:\n",
    "    print(\"Conclusion: Fail to reject the null hypothesis.\")\n"
   ]
  },
  {
   "cell_type": "markdown",
   "id": "84270380-c927-466e-92bb-dbe8a7081269",
   "metadata": {},
   "source": [
    "This program first generates two random samples of equal size using numpy's random.normal() function, with means of 50 and 55 and standard deviations of 10. It then sets the null hypothesis that the population means are equal, and calculates the t-statistic and p-value for the two-sample t-test using the ttest_ind() function from scipy.stats.\n",
    "\n",
    "The program then sets the significance level alpha to 0.05, and prints out the results of the hypothesis test, including the null hypothesis, sample means, t-statistic, and p-value. Finally, it uses an if-else statement to determine whether to reject the null hypothesis based on the p-value and alpha, and prints out the appropriate conclusion."
   ]
  },
  {
   "cell_type": "markdown",
   "id": "d1fa6c62-c581-497d-b3d9-543dc1d027c2",
   "metadata": {},
   "source": [
    "11. What is Student’s t distribution? When to use the t-Distribution."
   ]
  },
  {
   "cell_type": "markdown",
   "id": "1658a0c2-aad3-467d-918c-c2240061b95c",
   "metadata": {},
   "source": [
    "Student's t-distribution is a probability distribution that arises in hypothesis testing when the sample size is small (typically less than 30) and the population variance is unknown"
   ]
  },
  {
   "cell_type": "markdown",
   "id": "d23c7eb9-3662-47f2-8771-3a6c04c5acb7",
   "metadata": {},
   "source": [
    "The t-distribution is similar in shape to the standard normal distribution, but with heavier tails. It is characterized by its degrees of freedom, which are determined by the sample size. As the sample size increases, the t-distribution approaches the standard normal distribution.\n",
    "\n",
    "The t-distribution is used in hypothesis testing to calculate the probability of observing a test statistic as extreme or more extreme than the one observed, assuming that the null hypothesis is true. It is typically used when the sample size is small and the population variance is unknown, and when the normality assumption is reasonable or the sample size is sufficiently large to rely on the central limit theorem."
   ]
  },
  {
   "cell_type": "markdown",
   "id": "1c186beb-37e5-43ea-9a90-4eac02195489",
   "metadata": {},
   "source": [
    "12.  What is t-statistic? State the formula for t-statistic"
   ]
  },
  {
   "cell_type": "markdown",
   "id": "a6113f3e-6d4f-4b92-a57d-8f06fb201196",
   "metadata": {},
   "source": [
    "t-statistic is a measure of how much the sample mean differs from the hypothesized population mean, in units of the standard error of the mean. It is used in hypothesis testing to assess the evidence against the null hypothesis, and to determine whether the observed difference between the sample mean and the population mean is statistically significant.\n",
    "\n",
    "The formula for t-statistic depends on the type of hypothesis test being conducted, but in general it can be expressed as:\n",
    "\n",
    "t = (sample mean - hypothesized population mean) / (standard error of the mean)\n",
    "\n",
    "where the sample mean is the average value of the sample, the hypothesized population mean is the value assumed under the null hypothesis, and the standard error of the mean is the estimated standard deviation of the sampling distribution of the mean.\n",
    "\n",
    "For example, in a two-sample t-test for independent samples, the formula for t-statistic is:\n",
    "\n",
    "t = (x1 - x2) / (s * sqrt(2/n))\n",
    "\n",
    "where x1 and x2 are the sample means, s is the pooled standard deviation of the two samples, n is the sample size, and sqrt is the square root function.\n",
    "\n",
    "In a one-sample t-test, the formula for t-statistic is:\n",
    "\n",
    "t = (x - mu) / (s / sqrt(n))\n",
    "\n",
    "where x is the sample mean, mu is the hypothesized population mean, s is the sample standard deviation, n is the sample size, and sqrt is the square root function.\n",
    "\n",
    "The t-statistic is compared to a critical value from the t-distribution with n-1 degrees of freedom, where n is the sample size. If the t-statistic exceeds the critical value, then the null hypothesis is rejected at the chosen level of significance, indicating that there is evidence to support the alternative hypothesis."
   ]
  },
  {
   "cell_type": "markdown",
   "id": "eb1cf476-aeb9-4ed8-93a0-051101412921",
   "metadata": {},
   "source": [
    "13.  A coffee shop owner wants to estimate the average daily revenue for their shop. They take a random \n",
    "sample of 50 days and find the sample mean revenue to be dollar 500 with a standard deviation of $50. \n",
    "Estimate the population mean revenue with a 95% confidence interval"
   ]
  },
  {
   "cell_type": "markdown",
   "id": "42d12226-bbb8-4034-bffd-943a3a4c8998",
   "metadata": {},
   "source": [
    "To estimate the population mean revenue with a 95% confidence interval, we can use the following formula:\n",
    "\n",
    "Confidence Interval = sample mean +/- t*(standard error)\n",
    "\n",
    "where t is the critical value from the t-distribution with n-1 degrees of freedom, alpha/2 level of significance and n is the sample size.\n",
    "\n",
    "First, we need to calculate the standard error of the mean:\n",
    "\n",
    "standard error = standard deviation / sqrt(sample size) = $50 / sqrt(50) = $7.07\n",
    "\n",
    "Next, we need to find the critical value for t with 49 degrees of freedom at the 95% confidence level. We can use a t-table or a calculator to find this value, which is approximately 2.009.\n",
    "\n",
    "Finally, we can calculate the confidence interval:\n",
    "\n",
    "Confidence Interval = $500 +/- 2.009*($7.07) = ($485.62, $514.38)\n",
    "\n",
    "Therefore, we can say with 95% confidence that the true average daily revenue for the coffee shop falls between $485.62   and $514.38 based on the given sample."
   ]
  },
  {
   "cell_type": "markdown",
   "id": "c4e546d2-935f-4dd4-821b-966d61b34b5b",
   "metadata": {},
   "source": [
    "14. A researcher hypothesizes that a new drug will decrease blood pressure by 10 mmHg. They conduct a \n",
    "clinical trial with 100 patients and find that the sample mean decrease in blood pressure is 8 mmHg with a \n",
    "standard deviation of 3 mmHg. Test the hypothesis with a significance level of 0.05"
   ]
  },
  {
   "cell_type": "markdown",
   "id": "a870d9ac-3bfa-411a-bd4e-1cec4c66d232",
   "metadata": {},
   "source": [
    "To test the hypothesis that the new drug will decrease blood pressure by 10 mmHg with a significance level of 0.05, we can use a one-sample t-test.\n",
    "\n",
    "The null hypothesis is that the mean decrease in blood pressure is not significantly different from 10 mmHg, and the alternative hypothesis is that the mean decrease in blood pressure is less than 10 mmHg.\n",
    "\n",
    "We can calculate the t-statistic using the formula:\n",
    "\n",
    "t = (sample mean - hypothesized mean) / (standard error)\n",
    "\n",
    "where the sample mean is 8 mmHg, the hypothesized mean is 10 mmHg, and the standard error is the standard deviation of the sample divided by the square root of the sample size:\n",
    "\n",
    "standard error = standard deviation / sqrt(sample size) = 3 mmHg / sqrt(100) = 0.3 mmHg\n",
    "\n",
    "Thus, the t-statistic is:\n",
    "\n",
    "t = (8 - 10) / 0.3 = -6.67\n",
    "\n",
    "We can find the p-value associated with this t-statistic using a t-distribution table or calculator with 99 degrees of freedom (100-1). The p-value is very small, much less than 0.05, which indicates strong evidence against the null hypothesis.\n",
    "\n",
    "Therefore, we can reject the null hypothesis and conclude that the new drug does decrease blood pressure by a statistically significant amount at the 0.05 level of significance."
   ]
  },
  {
   "cell_type": "markdown",
   "id": "613e85cb-b1dc-4187-b9bd-6849a23ca9e6",
   "metadata": {},
   "source": [
    "15.  An electronics company produces a certain type of product with a mean weight of 5 pounds and a \n",
    "standard deviation of 0.5 pounds. A random sample of 25 products is taken, and the sample mean weight \n",
    "is found to be 4.8 pounds. Test the hypothesis that the true mean weight of the products is less than 5 \n",
    "pounds with a significance level of 0.01"
   ]
  },
  {
   "cell_type": "markdown",
   "id": "bf9a0748-b8a5-4ab4-ace7-7e7ca2302fda",
   "metadata": {},
   "source": [
    "To test the hypothesis that the true mean weight of the products is less than 5 pounds, we will use a one-tailed t-test with a significance level of 0.01.\n",
    "\n",
    "The null hypothesis is that the true mean weight of the products is equal to 5 pounds, and the alternative hypothesis is that the true mean weight is less than 5 pounds.\n",
    "\n",
    "The test statistic for the t-test is given by:\n",
    "\n",
    "t = (x̄ - μ) / (s / √n)\n",
    "\n",
    "where x̄ is the sample mean weight, μ is the population mean weight (which is 5 pounds), s is the sample standard deviation (which is 0.5 pounds), and n is the sample size (which is 25).\n",
    "\n",
    "Plugging in the values, we get:\n",
    "\n",
    "t = (4.8 - 5) / (0.5 / √25) = -2\n",
    "\n",
    "The degrees of freedom for the t-test is n - 1 = 24.\n",
    "\n",
    "Using a t-distribution table with 24 degrees of freedom and a one-tailed test at a significance level of 0.01, we find that the critical t-value is -2.492.\n",
    "\n",
    "Since our calculated t-value (-2) is greater than the critical t-value (-2.492) for a one-tailed test with 24 degrees of freedom and a significance level of 0.01, we reject the null hypothesis and conclude that there is sufficient evidence to suggest that the true mean weight of the products is less than 5 pounds, at a significance level of 0.01.\n",
    "\n",
    "The correct interpretation is that the calculated t-value of -2 falls in the rejection region, which means that it is unlikely to have occurred by chance alone under the null hypothesis. Therefore, we reject the null hypothesis and accept the alternative hypothesis that the true mean weight of the products is less than 5 pounds."
   ]
  },
  {
   "cell_type": "markdown",
   "id": "d4764a82-fdd0-40d5-aef9-5ad718019257",
   "metadata": {},
   "source": [
    "16.  Two groups of students are given different study materials to prepare for a test. The first group (n1 = 30) has a mean score of 80 with a standard deviation of 10, and the second group (n2 = 40) has a mean \n",
    "score of 75 with a standard deviation of 8. Test the hypothesis that the population means for the two \n",
    "groups are equal with a significance level of 0.01"
   ]
  },
  {
   "cell_type": "markdown",
   "id": "a3bad9fd-1397-494d-a3ec-ec19ee72e00f",
   "metadata": {},
   "source": [
    "To test the hypothesis that the population means for the two groups are equal, we will use a two-sample t-test with a significance level of 0.01.\n",
    "\n",
    "The null hypothesis is that the population means for the two groups are equal, and the alternative hypothesis is that they are not equal.\n",
    "\n",
    "The test statistic for the two-sample t-test is given by:\n",
    "\n",
    "t = (x̄1 - x̄2) / sqrt((s1^2/n1) + (s2^2/n2))\n",
    "\n",
    "where x̄1 and x̄2 are the sample means for the two groups, s1 and s2 are the sample standard deviations, and n1 and n2 are the sample sizes.\n",
    "\n",
    "Plugging in the values, we get:\n",
    "\n",
    "t = (80 - 75) / sqrt((10^2/30) + (8^2/40)) = 2.64\n",
    "\n",
    "The degrees of freedom for the two-sample t-test is given by:\n",
    "\n",
    "df = (s1^2/n1 + s2^2/n2)^2 / ((s1^2/n1)^2/(n1-1) + (s2^2/n2)^2/(n2-1))\n",
    "\n",
    "Plugging in the values, we get:\n",
    "\n",
    "df = (10^2/30 + 8^2/40)^2 / ((10^2/30)^2/29 + (8^2/40)^2/39) = 63.22\n",
    "\n",
    "Using a t-distribution table with 63 degrees of freedom and a two-tailed test at a significance level of 0.01, we find that the critical t-value is ±2.660.\n",
    "\n",
    "Since our calculated t-value (2.64) is less than the critical t-value (±2.660), we fail to reject the null hypothesis and conclude that there is insufficient evidence to suggest that the population means for the two groups are not equal, at a significance level of 0.01."
   ]
  },
  {
   "cell_type": "markdown",
   "id": "e886c59d-eef8-4fb7-805d-624208e1c3af",
   "metadata": {},
   "source": [
    "17. A marketing company wants to estimate the average number of ads watched by viewers during a TV \n",
    "program. They take a random sample of 50 viewers and find that the sample mean is 4 with a standard \n",
    "deviation of 1.5. Estimate the population mean with a 99% confidence interval"
   ]
  },
  {
   "cell_type": "markdown",
   "id": "086a567c-7218-45b5-99a3-5038760f5f21",
   "metadata": {},
   "source": [
    "To estimate the population mean with a 99% confidence interval, we can use the following formula:\n",
    "\n",
    "Confidence interval = sample mean ± margin of error\n",
    "\n",
    "where the margin of error is given by:\n",
    "\n",
    "Margin of error = (critical value) x (standard error of the mean)\n",
    "\n",
    "The critical value can be obtained from a t-distribution table with 49 degrees of freedom and a 99% confidence level. For a two-tailed test, the critical value is 2.680.\n",
    "\n",
    "The standard error of the mean can be calculated as:\n",
    "\n",
    "Standard error of the mean = standard deviation / √n\n",
    "\n",
    "where n is the sample size.\n",
    "\n",
    "Substituting the values given in the problem, we have:\n",
    "\n",
    "Standard error of the mean = 1.5 / √50 = 0.212\n",
    "\n",
    "The margin of error is therefore:\n",
    "\n",
    "Margin of error = 2.680 x 0.212 = 0.569\n",
    "\n",
    "The 99% confidence interval for the population mean is:\n",
    "\n",
    "4 ± 0.569\n",
    "\n",
    "or\n",
    "\n",
    "(3.431, 4.569)\n",
    "\n",
    "Therefore, we can be 99% confident that the true average number of ads watched by viewers during a TV program falls between 3.431 and 4.569."
   ]
  },
  {
   "cell_type": "code",
   "execution_count": null,
   "id": "ff142477-6a3a-4e2d-8148-aafaa737f22e",
   "metadata": {},
   "outputs": [],
   "source": []
  }
 ],
 "metadata": {
  "kernelspec": {
   "display_name": "Python 3 (ipykernel)",
   "language": "python",
   "name": "python3"
  },
  "language_info": {
   "codemirror_mode": {
    "name": "ipython",
    "version": 3
   },
   "file_extension": ".py",
   "mimetype": "text/x-python",
   "name": "python",
   "nbconvert_exporter": "python",
   "pygments_lexer": "ipython3",
   "version": "3.10.8"
  }
 },
 "nbformat": 4,
 "nbformat_minor": 5
}
